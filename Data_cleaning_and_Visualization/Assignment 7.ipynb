{
 "cells": [
  {
   "cell_type": "code",
   "execution_count": 2,
   "id": "7f02c1b0",
   "metadata": {},
   "outputs": [],
   "source": [
    "import pandas as pd"
   ]
  },
  {
   "cell_type": "code",
   "execution_count": 3,
   "id": "0d71fdb5",
   "metadata": {},
   "outputs": [],
   "source": [
    "songs = pd.read_csv('songs_normalize.csv')"
   ]
  },
  {
   "cell_type": "code",
   "execution_count": null,
   "id": "5262e88e",
   "metadata": {},
   "outputs": [],
   "source": [
    "songs.sample(8)"
   ]
  },
  {
   "cell_type": "code",
   "execution_count": null,
   "id": "7dadcd40",
   "metadata": {},
   "outputs": [],
   "source": [
    "songs.shape"
   ]
  },
  {
   "cell_type": "markdown",
   "id": "e5722152",
   "metadata": {},
   "source": [
    "#### Q1) Using groupby(), plot the number of songs that have been released each year. Please, use the kind='bar', xlabel=year and ylabel ='Count of songs' and the size of figure should be (12,8) ---- <font color='blue'> (15 points)</font>"
   ]
  },
  {
   "cell_type": "code",
   "execution_count": null,
   "id": "249080ce",
   "metadata": {},
   "outputs": [],
   "source": []
  },
  {
   "cell_type": "code",
   "execution_count": null,
   "id": "c2f8e64e",
   "metadata": {},
   "outputs": [],
   "source": []
  },
  {
   "cell_type": "markdown",
   "id": "7ebf8bc9",
   "metadata": {},
   "source": [
    "#### Q2) Use groupby() to present how many songs does Rihanna have over years. <font color='blue'> (10 points)</font>"
   ]
  },
  {
   "cell_type": "code",
   "execution_count": null,
   "id": "4c450be0",
   "metadata": {},
   "outputs": [],
   "source": []
  },
  {
   "cell_type": "code",
   "execution_count": null,
   "id": "a8e38333",
   "metadata": {},
   "outputs": [],
   "source": []
  },
  {
   "cell_type": "markdown",
   "id": "3a5ae3cc",
   "metadata": {},
   "source": [
    "#### Q3) Use groupby() to sort the number of artists released pop(only!) songs in 2011. <font color='blue'> (10 points)</font>"
   ]
  },
  {
   "cell_type": "code",
   "execution_count": null,
   "id": "cc99abab",
   "metadata": {},
   "outputs": [],
   "source": []
  },
  {
   "cell_type": "code",
   "execution_count": null,
   "id": "f2773080",
   "metadata": {},
   "outputs": [],
   "source": []
  },
  {
   "cell_type": "markdown",
   "id": "4bc0afcc",
   "metadata": {},
   "source": [
    "#### Q5) List, in order by year, each of the genres in which Calvin Harris has released more than 1 songs. <font color='blue'> (15 points)</font>"
   ]
  },
  {
   "cell_type": "code",
   "execution_count": null,
   "id": "80393dad",
   "metadata": {},
   "outputs": [],
   "source": []
  },
  {
   "cell_type": "code",
   "execution_count": null,
   "id": "f6da849c",
   "metadata": {},
   "outputs": [],
   "source": []
  },
  {
   "cell_type": "code",
   "execution_count": null,
   "id": "8689929e",
   "metadata": {},
   "outputs": [],
   "source": []
  },
  {
   "cell_type": "markdown",
   "id": "3682d939",
   "metadata": {},
   "source": [
    "#### Q6) <font color='blue'> TOTAL: (50 points)</font>\n",
    "* Define a new datafame which contains the popularity, danceability, energy, year, tempo, song.  <font color='blue'> (5 points)</font>\n",
    "* Use transform() to define a new column which represent percantage of popularity (pop%). <font color='blue'> (10 points)</font>\n",
    "* Set the index of dataframe as year assign new data frame as song_rearranged<font color='blue'> (10 points)</font>\n",
    "* Describe a new column as 'score' by considering mean of popularity, danceability, energy constants. <font color='blue'> (10 points)</font>\n",
    "* Then, use groupby() in years and use apply function which returns the sorted values with respect to 'score' column? <font color='blue'> (15 points)</font>\n",
    "* Display the songs having the first 4 best scores in 2009. Please be sure there is no duplication in the data! <font color='blue'> (10 points)</font>"
   ]
  },
  {
   "cell_type": "code",
   "execution_count": null,
   "id": "1794a0ad",
   "metadata": {},
   "outputs": [],
   "source": []
  },
  {
   "cell_type": "code",
   "execution_count": null,
   "id": "84f8d394",
   "metadata": {},
   "outputs": [],
   "source": []
  },
  {
   "cell_type": "code",
   "execution_count": null,
   "id": "fdec1051",
   "metadata": {},
   "outputs": [],
   "source": []
  },
  {
   "cell_type": "code",
   "execution_count": null,
   "id": "4869a26b",
   "metadata": {},
   "outputs": [],
   "source": []
  },
  {
   "cell_type": "code",
   "execution_count": null,
   "id": "a0b16c45",
   "metadata": {},
   "outputs": [],
   "source": []
  }
 ],
 "metadata": {
  "kernelspec": {
   "display_name": "Python 3 (ipykernel)",
   "language": "python",
   "name": "python3"
  },
  "language_info": {
   "codemirror_mode": {
    "name": "ipython",
    "version": 3
   },
   "file_extension": ".py",
   "mimetype": "text/x-python",
   "name": "python",
   "nbconvert_exporter": "python",
   "pygments_lexer": "ipython3",
   "version": "3.8.12"
  }
 },
 "nbformat": 4,
 "nbformat_minor": 5
}
