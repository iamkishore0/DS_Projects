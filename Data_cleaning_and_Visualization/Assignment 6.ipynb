{
 "cells": [
  {
   "cell_type": "markdown",
   "id": "be8955d0",
   "metadata": {},
   "source": [
    "__Goal:__ is to estimate the future Petrol Price. To do this, please follow the following steps"
   ]
  },
  {
   "cell_type": "markdown",
   "id": "c2dfa30f",
   "metadata": {},
   "source": [
    "### Import the libraries"
   ]
  },
  {
   "cell_type": "code",
   "execution_count": 2,
   "id": "1bd71d3b",
   "metadata": {},
   "outputs": [],
   "source": [
    "import pandas as pd\n",
    "import matplotlib as mpl\n",
    "import numpy as np\n",
    "import pandas as pd  # Basic library for all of our dataset operations\n",
    "import statsmodels as sm\n",
    "import tensorflow as tf\n",
    "from matplotlib import pyplot as plt\n",
    "from pylab import rcParams\n",
    "from sklearn.linear_model import LinearRegression\n",
    "from statsmodels.graphics.tsaplots import plot_acf, plot_pacf\n",
    "from statsmodels.tsa import api as smt\n",
    "from statsmodels.tsa.seasonal import seasonal_decompose\n",
    "from statsmodels.tsa.stattools import adfuller"
   ]
  },
  {
   "cell_type": "code",
   "execution_count": 14,
   "id": "5e25f8ed",
   "metadata": {},
   "outputs": [],
   "source": [
    "fuel= pd.read_excel('Weekly Fuel Prices.xlsx')"
   ]
  },
  {
   "cell_type": "markdown",
   "id": "55a6c7bc",
   "metadata": {},
   "source": [
    "__Q1)__ Look at the information about the data? Prepare your data for exploring more as time series?-10 points"
   ]
  },
  {
   "cell_type": "code",
   "execution_count": null,
   "id": "a38f1d91",
   "metadata": {},
   "outputs": [],
   "source": []
  },
  {
   "cell_type": "code",
   "execution_count": null,
   "id": "2662573c",
   "metadata": {},
   "outputs": [],
   "source": []
  },
  {
   "cell_type": "code",
   "execution_count": null,
   "id": "628a0bb7",
   "metadata": {},
   "outputs": [],
   "source": []
  },
  {
   "cell_type": "code",
   "execution_count": null,
   "id": "c11a0ed4",
   "metadata": {},
   "outputs": [],
   "source": []
  },
  {
   "cell_type": "code",
   "execution_count": null,
   "id": "6eba2e6f",
   "metadata": {},
   "outputs": [],
   "source": []
  },
  {
   "cell_type": "markdown",
   "id": "72df41b2",
   "metadata": {},
   "source": [
    "__Q2__ Compare the shape of your prepared dataframe? - 5 points"
   ]
  },
  {
   "cell_type": "code",
   "execution_count": null,
   "id": "14ae0f62",
   "metadata": {},
   "outputs": [],
   "source": []
  },
  {
   "cell_type": "code",
   "execution_count": null,
   "id": "5a5c1be2",
   "metadata": {},
   "outputs": [],
   "source": []
  },
  {
   "cell_type": "code",
   "execution_count": null,
   "id": "81a3fe8b",
   "metadata": {},
   "outputs": [],
   "source": []
  },
  {
   "cell_type": "code",
   "execution_count": null,
   "id": "df5bce35",
   "metadata": {},
   "outputs": [],
   "source": []
  },
  {
   "cell_type": "markdown",
   "id": "9d06dcc6",
   "metadata": {},
   "source": [
    "__Q3__ Plot the columns of the dataframe with respect to the 'Date' -10 points"
   ]
  },
  {
   "cell_type": "code",
   "execution_count": null,
   "id": "6cc50153",
   "metadata": {},
   "outputs": [],
   "source": []
  },
  {
   "cell_type": "code",
   "execution_count": null,
   "id": "9106b974",
   "metadata": {},
   "outputs": [],
   "source": []
  },
  {
   "cell_type": "markdown",
   "id": "6ba331aa",
   "metadata": {},
   "source": [
    "__Q4__ Decompose your data taking into account your purpose!: --5 points\n",
    "\n",
    "* The correct choice of model (take period=7) --10 points"
   ]
  },
  {
   "cell_type": "code",
   "execution_count": null,
   "id": "c92f9e0d",
   "metadata": {},
   "outputs": [],
   "source": []
  },
  {
   "cell_type": "code",
   "execution_count": null,
   "id": "eed300e9",
   "metadata": {},
   "outputs": [],
   "source": []
  },
  {
   "cell_type": "markdown",
   "id": "1d1e7c95",
   "metadata": {},
   "source": [
    "__Q5__ Plot the seasonal component of the decomposed model? --5 points"
   ]
  },
  {
   "cell_type": "code",
   "execution_count": null,
   "id": "fd970a34",
   "metadata": {},
   "outputs": [],
   "source": []
  },
  {
   "cell_type": "code",
   "execution_count": null,
   "id": "b1619249",
   "metadata": {},
   "outputs": [],
   "source": []
  },
  {
   "cell_type": "markdown",
   "id": "898e9f15",
   "metadata": {},
   "source": [
    "__Interpretation:__  15 points(each 5)\n",
    "\n",
    "1) What do you think about trendness of the data?    \n",
    "\n",
    "   Ans:\n",
    "   \n",
    "2) What do you think about seasonality of the data? \n",
    "\n",
    "   Ans: \n",
    "   \n",
    "3) What about stationarity of the data? \n",
    "\n",
    "    Ans: "
   ]
  },
  {
   "cell_type": "markdown",
   "id": "078a82b5",
   "metadata": {},
   "source": [
    "__Q6__ Plot Autocorrelation of the considered data! --5 points"
   ]
  },
  {
   "cell_type": "code",
   "execution_count": null,
   "id": "bb4979f3",
   "metadata": {},
   "outputs": [],
   "source": []
  },
  {
   "cell_type": "code",
   "execution_count": null,
   "id": "daf020b8",
   "metadata": {},
   "outputs": [],
   "source": []
  },
  {
   "cell_type": "markdown",
   "id": "fac31ec1",
   "metadata": {},
   "source": [
    "__Interpretation:__  Interpret the obtained figure. What can you say about the data?  (5 points)"
   ]
  },
  {
   "cell_type": "markdown",
   "id": "c2256daf",
   "metadata": {},
   "source": [
    "__Q7__ Use the histograms to see the noise of the data? (5 points)"
   ]
  },
  {
   "cell_type": "code",
   "execution_count": null,
   "id": "47874716",
   "metadata": {},
   "outputs": [],
   "source": []
  },
  {
   "cell_type": "markdown",
   "id": "27ddfa2f",
   "metadata": {},
   "source": [
    "__Interpretation:__ Is it Noisy? Is it White Noise?  (10 points)\n",
    "\n",
    "Ans: "
   ]
  },
  {
   "cell_type": "markdown",
   "id": "8f5d93c4",
   "metadata": {},
   "source": [
    "__Q8__ To be more sure apply Augmented Dickey-Fuller test for the data? (5 points)"
   ]
  },
  {
   "cell_type": "code",
   "execution_count": null,
   "id": "4dd5008f",
   "metadata": {},
   "outputs": [],
   "source": []
  },
  {
   "cell_type": "markdown",
   "id": "559acece",
   "metadata": {},
   "source": [
    "__Interpretation:__ discuss the result, please! (10 points)"
   ]
  },
  {
   "cell_type": "code",
   "execution_count": null,
   "id": "fecfa2d9",
   "metadata": {},
   "outputs": [],
   "source": []
  },
  {
   "cell_type": "markdown",
   "id": "9125025c",
   "metadata": {},
   "source": [
    "***"
   ]
  },
  {
   "cell_type": "markdown",
   "id": "2b871d35",
   "metadata": {},
   "source": [
    "### EXTRA POINTS -30 points "
   ]
  },
  {
   "cell_type": "markdown",
   "id": "44928c48",
   "metadata": {},
   "source": [
    "__HELP__ Utilize the [difference strategy!](https://www.analyticsvidhya.com/blog/2018/09/non-stationary-time-series-python/) if you need (for anybody who says the data is non-stationary) Otherwise, go the the model step! (10 points)"
   ]
  },
  {
   "cell_type": "code",
   "execution_count": null,
   "id": "0ea14826",
   "metadata": {},
   "outputs": [],
   "source": []
  },
  {
   "cell_type": "code",
   "execution_count": 1,
   "id": "092ad59b",
   "metadata": {},
   "outputs": [
    {
     "name": "stdout",
     "output_type": "stream",
     "text": [
      "Dickey-Fuller Test: \n"
     ]
    }
   ],
   "source": [
    "# Be sure the new data set is fully stationary: \n",
    "print('Dickey-Fuller Test: ')\n",
    "\n"
   ]
  },
  {
   "cell_type": "markdown",
   "id": "8a9af82e",
   "metadata": {},
   "source": [
    "__Q9__ Use the arima model to predict the the price of petrol? (20 points)\n",
    "\n",
    "Hint: You can use [Strategy in Github](https://github.com/Manishms18/Air-Passengers-Time-Series-Analysis/blob/master/Air_Passenger_with_explanations.ipynb)"
   ]
  },
  {
   "cell_type": "code",
   "execution_count": null,
   "id": "598795e2",
   "metadata": {},
   "outputs": [],
   "source": []
  },
  {
   "cell_type": "markdown",
   "id": "2bcebd3f",
   "metadata": {},
   "source": [
    "Optional: forecast the following year estimation!"
   ]
  },
  {
   "cell_type": "code",
   "execution_count": null,
   "id": "a1dd1c3a",
   "metadata": {},
   "outputs": [],
   "source": []
  }
 ],
 "metadata": {
  "kernelspec": {
   "display_name": "Python 3 (ipykernel)",
   "language": "python",
   "name": "python3"
  },
  "language_info": {
   "codemirror_mode": {
    "name": "ipython",
    "version": 3
   },
   "file_extension": ".py",
   "mimetype": "text/x-python",
   "name": "python",
   "nbconvert_exporter": "python",
   "pygments_lexer": "ipython3",
   "version": "3.8.12"
  }
 },
 "nbformat": 4,
 "nbformat_minor": 5
}
