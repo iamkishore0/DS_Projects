{
 "cells": [
  {
   "cell_type": "code",
   "execution_count": null,
   "id": "0b6dd485",
   "metadata": {},
   "outputs": [],
   "source": [
    "data = pd.read_csv('FremontBridge.csv', index_col='Date', parse_dates=True)"
   ]
  },
  {
   "cell_type": "code",
   "execution_count": null,
   "id": "bfa2bff2",
   "metadata": {},
   "outputs": [],
   "source": [
    "data.shape"
   ]
  },
  {
   "cell_type": "markdown",
   "id": "fdc87f85",
   "metadata": {},
   "source": [
    "### Q1) See the summary statistics of the DataFrame by dropping nan values <font color='Blue'> (15 points) </font>"
   ]
  },
  {
   "cell_type": "code",
   "execution_count": null,
   "id": "0a4583ad",
   "metadata": {},
   "outputs": [],
   "source": []
  },
  {
   "cell_type": "code",
   "execution_count": null,
   "id": "8c51353f",
   "metadata": {},
   "outputs": [],
   "source": [
    "import matplotlib.pyplot as plt\n",
    "%matplotlib inline\n",
    "import seaborn; seaborn.set()\n",
    "data.plot()\n",
    "plt.ylabel('Hourly Bicycle Count');"
   ]
  },
  {
   "cell_type": "markdown",
   "id": "fd5c16e3",
   "metadata": {},
   "source": [
    "### Q2) Gain more insight: Resample by Month <font color='Blue'> (20 points) </font>"
   ]
  },
  {
   "cell_type": "code",
   "execution_count": null,
   "id": "5c45a932",
   "metadata": {},
   "outputs": [],
   "source": []
  },
  {
   "cell_type": "markdown",
   "id": "56abfea3",
   "metadata": {},
   "source": [
    "__Discussion 5:__ Consider the Figure by discussing the seasonal trends. What do you think about the decrease in 2020 ans so on? Write your discussion on the discussioon board! __(10 pnts)__"
   ]
  },
  {
   "cell_type": "markdown",
   "id": "df8e8f16",
   "metadata": {},
   "source": [
    "### Q3)Resample the DataFrame in days. After that, see mean 6 months (~180 days) rolling mean of the data, making sure to center the window <font color='Blue'> (20 points) </font>"
   ]
  },
  {
   "cell_type": "code",
   "execution_count": null,
   "id": "e159aaed",
   "metadata": {},
   "outputs": [],
   "source": []
  },
  {
   "cell_type": "markdown",
   "id": "071bc89d",
   "metadata": {},
   "source": [
    "### Q4) Use the np.where() function to distinguish weekends and weekdays. Describe a new column to the DataFrame by assigning weekends as 0 and weekdays as 1. <font color='Blue'> (20 points) </font>"
   ]
  },
  {
   "attachments": {
    "assignment4_1.png": {
     "image/png": "[encoded data removed]"
    }
   },
   "cell_type": "markdown",
   "id": "f3161741",
   "metadata": {},
   "source": [
    "_Example_\n",
    "![assignment4_1.png](attachment:assignment4_1.png)"
   ]
  },
  {
   "cell_type": "code",
   "execution_count": null,
   "id": "0dedeb51",
   "metadata": {},
   "outputs": [],
   "source": []
  },
  {
   "cell_type": "code",
   "execution_count": null,
   "id": "5fa00633",
   "metadata": {},
   "outputs": [],
   "source": []
  },
  {
   "cell_type": "code",
   "execution_count": null,
   "id": "76812731",
   "metadata": {},
   "outputs": [],
   "source": []
  },
  {
   "cell_type": "markdown",
   "id": "66b1bee1",
   "metadata": {},
   "source": [
    "### Q5) Use the np.where() function to distinguish weekends and weekdays. Describe a new column to the DataFrame by showing each index as 'weekday' or 'weekend' <font color='Blue'> (15 points) </font>"
   ]
  },
  {
   "cell_type": "code",
   "execution_count": 23,
   "id": "ebea81fa",
   "metadata": {},
   "outputs": [],
   "source": []
  },
  {
   "cell_type": "code",
   "execution_count": 24,
   "id": "12cf890d",
   "metadata": {},
   "outputs": [],
   "source": []
  },
  {
   "cell_type": "code",
   "execution_count": 32,
   "id": "a7ef2d13",
   "metadata": {},
   "outputs": [],
   "source": []
  },
  {
   "cell_type": "markdown",
   "id": "baa482bd",
   "metadata": {},
   "source": [
    "### Q6) Construct a multi-indexed data frame by indexing 'Weekend' and 'index of our DataFrame'"
   ]
  },
  {
   "cell_type": "code",
   "execution_count": 33,
   "id": "19209821",
   "metadata": {},
   "outputs": [],
   "source": []
  },
  {
   "cell_type": "code",
   "execution_count": 34,
   "id": "f1bdca22",
   "metadata": {},
   "outputs": [],
   "source": []
  },
  {
   "cell_type": "markdown",
   "id": "e2f65f76",
   "metadata": {},
   "source": []
  },
  {
   "cell_type": "code",
   "execution_count": null,
   "id": "efb57172",
   "metadata": {},
   "outputs": [],
   "source": []
  }
 ],
 "metadata": {
  "kernelspec": {
   "display_name": "Python 3 (ipykernel)",
   "language": "python",
   "name": "python3"
  },
  "language_info": {
   "codemirror_mode": {
    "name": "ipython",
    "version": 3
   },
   "file_extension": ".py",
   "mimetype": "text/x-python",
   "name": "python",
   "nbconvert_exporter": "python",
   "pygments_lexer": "ipython3",
   "version": "3.8.12"
  }
 },
 "nbformat": 4,
 "nbformat_minor": 5
}
