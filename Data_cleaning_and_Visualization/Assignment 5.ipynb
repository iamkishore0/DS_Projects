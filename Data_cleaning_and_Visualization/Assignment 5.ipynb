{
 "cells": [
  {
   "cell_type": "code",
   "execution_count": 1,
   "id": "df608643",
   "metadata": {},
   "outputs": [],
   "source": [
    "import pandas as pd\n",
    "import io\n",
    "import requests"
   ]
  },
  {
   "cell_type": "code",
   "execution_count": 2,
   "id": "44a2361d",
   "metadata": {},
   "outputs": [],
   "source": [
    "url=\"https://raw.githubusercontent.com/jenfly/opsd/master/opsd_germany_daily.csv\"\n",
    "s=requests.get(url).content\n",
    "data=pd.read_csv(io.StringIO(s.decode('utf-8')))"
   ]
  },
  {
   "cell_type": "code",
   "execution_count": null,
   "id": "c5738e19",
   "metadata": {},
   "outputs": [],
   "source": [
    "data.head()"
   ]
  },
  {
   "cell_type": "code",
   "execution_count": null,
   "id": "1815bf84",
   "metadata": {},
   "outputs": [],
   "source": [
    "data.tail()"
   ]
  },
  {
   "cell_type": "code",
   "execution_count": null,
   "id": "1a89315b",
   "metadata": {},
   "outputs": [],
   "source": [
    "data.shape"
   ]
  },
  {
   "cell_type": "code",
   "execution_count": null,
   "id": "9ebd739a",
   "metadata": {},
   "outputs": [],
   "source": [
    "data.dtypes"
   ]
  },
  {
   "cell_type": "markdown",
   "id": "53463c4f",
   "metadata": {},
   "source": [
    "#### Q1) Set 'Date' column as Index of the dataframe. Be sure the index is a time-series<font color= 'Blue'> (10 points) </font>"
   ]
  },
  {
   "cell_type": "code",
   "execution_count": null,
   "id": "09431401",
   "metadata": {},
   "outputs": [],
   "source": []
  },
  {
   "cell_type": "code",
   "execution_count": null,
   "id": "966f0097",
   "metadata": {},
   "outputs": [],
   "source": []
  },
  {
   "cell_type": "code",
   "execution_count": null,
   "id": "a304f099",
   "metadata": {},
   "outputs": [],
   "source": []
  },
  {
   "cell_type": "markdown",
   "id": "6ce60768",
   "metadata": {},
   "source": [
    "#### Q2) Add New columns as 'Year', 'Month' and 'Name of Weekday' to the new DataFrame <font color= 'Blue'> (10 points) </font>"
   ]
  },
  {
   "cell_type": "code",
   "execution_count": null,
   "id": "30539502",
   "metadata": {},
   "outputs": [],
   "source": []
  },
  {
   "cell_type": "code",
   "execution_count": null,
   "id": "e7c97f00",
   "metadata": {},
   "outputs": [],
   "source": []
  },
  {
   "cell_type": "markdown",
   "id": "709b14c1",
   "metadata": {},
   "source": [
    "#### Q3) Describe the Consumption, Wind, Solar,  Wind+Solar, Year, Month, Weekday Name on 2017-09-23' <font color= 'Blue'> (5 points) </font>"
   ]
  },
  {
   "cell_type": "code",
   "execution_count": null,
   "id": "93fb4a70",
   "metadata": {},
   "outputs": [],
   "source": []
  },
  {
   "cell_type": "markdown",
   "id": "9b70f3e1",
   "metadata": {},
   "source": [
    "#### Q4) What is the Consumption, Wind, Solar,  Wind+Solar, Year, Month, Weekday Name between 2017-09-01 and 2017-09-30 <font color= 'Blue'> (10 points) </font>"
   ]
  },
  {
   "cell_type": "code",
   "execution_count": null,
   "id": "b1eb5df1",
   "metadata": {},
   "outputs": [],
   "source": []
  },
  {
   "cell_type": "code",
   "execution_count": 28,
   "id": "2d4e9e96",
   "metadata": {},
   "outputs": [],
   "source": [
    "import matplotlib.pyplot as plt"
   ]
  },
  {
   "cell_type": "markdown",
   "id": "604a8546",
   "metadata": {},
   "source": [
    "#### Q5) Use .plot(marker='.',alpha=0.5,linestyle='None', figsize=(11,9)) command to visualize the ['Consumption', 'Solar', 'Wind'] in subplots <font color= 'Blue'> (15 points) </font>"
   ]
  },
  {
   "cell_type": "code",
   "execution_count": null,
   "id": "8c446bc0",
   "metadata": {},
   "outputs": [],
   "source": []
  },
  {
   "cell_type": "markdown",
   "id": "b9ce0a3b",
   "metadata": {},
   "source": [
    "#### Q6) According to the graphs interpret the graphs:  <font color= 'Blue'> (15 points) </font>\n",
    "\n",
    "__1)__ What is the behavior of energy consumption in year/in seasons?\n",
    "\n",
    "Answer: \n",
    "\n",
    "__2)__ What can we say about solar/wind production?\n",
    "\n",
    "Answer: "
   ]
  },
  {
   "cell_type": "markdown",
   "id": "6dc2ca72",
   "metadata": {},
   "source": [
    "#### Q7) Resample the data (take ['Consumption', 'Wind', 'Solar', 'Wind+Solar'] columns ) to a monthly mean time series. Save the new dataFrame as data_new_mean and give 8 samples on it.  <font color= 'Blue'> (10 points) </font>"
   ]
  },
  {
   "cell_type": "code",
   "execution_count": null,
   "id": "3ab83bc2",
   "metadata": {},
   "outputs": [],
   "source": []
  },
  {
   "cell_type": "markdown",
   "id": "aad74686",
   "metadata": {},
   "source": [
    "#### Q8) Use Rolling transformation to compute the 30-day rolling mean of our daily data.  Save this new dataFrame as data_new_rolling <font color= 'Blue'> (10 points) </font>"
   ]
  },
  {
   "cell_type": "code",
   "execution_count": null,
   "id": "3457a5da",
   "metadata": {},
   "outputs": [],
   "source": []
  },
  {
   "attachments": {},
   "cell_type": "markdown",
   "id": "2b5d6d64",
   "metadata": {},
   "source": [
    "#### Q9) See the differences betweenolling mean and resampling, let’s update our earlier plot of January 2017-December 2017 wind power production to include the 30-day rolling mean along with the monthly mean resampled time series and the original daily data. <font color= 'Blue'> (15 points) </font> "
   ]
  },
  {
   "cell_type": "code",
   "execution_count": null,
   "id": "f8b4e9f6",
   "metadata": {},
   "outputs": [],
   "source": []
  }
 ],
 "metadata": {
  "kernelspec": {
   "display_name": "Python 3 (ipykernel)",
   "language": "python",
   "name": "python3"
  },
  "language_info": {
   "codemirror_mode": {
    "name": "ipython",
    "version": 3
   },
   "file_extension": ".py",
   "mimetype": "text/x-python",
   "name": "python",
   "nbconvert_exporter": "python",
   "pygments_lexer": "ipython3",
   "version": "3.9.7"
  }
 },
 "nbformat": 4,
 "nbformat_minor": 5
}
