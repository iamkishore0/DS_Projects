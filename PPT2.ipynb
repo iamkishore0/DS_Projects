{
  "nbformat": 4,
  "nbformat_minor": 0,
  "metadata": {
    "colab": {
      "provenance": [],
      "authorship_tag": "ABX9TyME1eTXFm8uEsaJzLvQfzZj",
      "include_colab_link": true
    },
    "kernelspec": {
      "name": "python3",
      "display_name": "Python 3"
    },
    "language_info": {
      "name": "python"
    }
  },
  "cells": [
    {
      "cell_type": "markdown",
      "metadata": {
        "id": "view-in-github",
        "colab_type": "text"
      },
      "source": [
        "<a href=\"https://colab.research.google.com/github/iamkishore0/DS_Projects/blob/main/PPT2.ipynb\" target=\"_parent\"><img src=\"https://colab.research.google.com/assets/colab-badge.svg\" alt=\"Open In Colab\"/></a>"
      ]
    },
    {
      "cell_type": "markdown",
      "source": [
        "Question 1\n",
        "Given an integer array nums of 2n integers, group these integers into n pairs (a1, b1), (a2, b2),\n",
        "..., (an, bn) such that the sum of min(ai, bi) for all i is maximized. Return the maximized sum.\n",
        "Example 1:\n",
        "Input: nums = [1,4,3,2]\n",
        "Output: 4\n",
        "Explanation: All possible pairings (ignoring the ordering of elements) are:\n",
        "1. (1, 4), (2, 3) -> min(1, 4) + min(2, 3) = 1 + 2 = 3\n",
        "2. (1, 3), (2, 4) -> min(1, 3) + min(2, 4) = 1 + 2 = 3\n",
        "3. (1, 2), (3, 4) -> min(1, 2) + min(3, 4) = 1 + 3 = 4\n",
        "So the maximum possible sum is 4"
      ],
      "metadata": {
        "id": "s7NJDU6IGb9B"
      }
    },
    {
      "cell_type": "code",
      "source": [
        "def arrayPairSum(nums):\n",
        "    nums.sort()  \n",
        "    max_sum = 0  \n",
        "    \n",
        "    for i in range(0, len(nums), 2):\n",
        "        max_sum += nums[i]  \n",
        "    \n",
        "    return max_sum\n",
        "\n",
        "nums = [1, 4, 3, 2]\n",
        "print(arrayPairSum(nums))\n"
      ],
      "metadata": {
        "colab": {
          "base_uri": "https://localhost:8080/"
        },
        "id": "HX10StgOGdKw",
        "outputId": "7b7c5f3f-1329-4fdf-f4bf-e0a516b9ce36"
      },
      "execution_count": 1,
      "outputs": [
        {
          "output_type": "stream",
          "name": "stdout",
          "text": [
            "4\n"
          ]
        }
      ]
    },
    {
      "cell_type": "markdown",
      "source": [
        "Alice has n candies, where the ith candy is of type candyType[i]. Alice noticed that she started\n",
        "to gain weight, so she visited a doctor.\n",
        "The doctor advised Alice to only eat n / 2 of the candies she has (n is always even). Alice\n",
        "likes her candies very much, and she wants to eat the maximum number of different types of\n",
        "candies while still following the doctor's advice.\n",
        "Given the integer array candyType of length n, return the maximum number of different types\n",
        "of candies she can eat if she only eats n / 2 of them.\n",
        "Example 1:\n",
        "Input: candyType = [1,1,2,2,3,3]\n",
        "Output: 3\n",
        "Explanation: Alice can only eat 6 / 2 = 3 candies. Since there are only 3 types, she can eat one\n",
        "of each type."
      ],
      "metadata": {
        "id": "bj704kgXGiGP"
      }
    },
    {
      "cell_type": "code",
      "source": [
        "def maxCandies(candyType):\n",
        "    unique_candies = set()\n",
        "    for candy in candyType:\n",
        "        unique_candies.add(candy)\n",
        "    \n",
        "    max_candies = len(candyType) // 2\n",
        "    return min(len(unique_candies), max_candies)\n",
        "\n",
        "# Example usage\n",
        "candyType = [1, 1, 2, 2, 3, 3]\n",
        "print(maxCandies(candyType))  # Output: 3"
      ],
      "metadata": {
        "colab": {
          "base_uri": "https://localhost:8080/"
        },
        "id": "LivNqnLOGwib",
        "outputId": "9fa28f46-932e-469e-882c-49856c98ff08"
      },
      "execution_count": 2,
      "outputs": [
        {
          "output_type": "stream",
          "name": "stdout",
          "text": [
            "3\n"
          ]
        }
      ]
    },
    {
      "cell_type": "markdown",
      "source": [
        "We define a harmonious array as an array where the difference between its maximum value\n",
        "and its minimum value is exactly 1.\n",
        "Given an integer array nums, return the length of its longest harmonious subsequence\n",
        "among all its possible subsequences.\n",
        "A subsequence of an array is a sequence that can be derived from the array by deleting some\n",
        "or no elements without changing the order of the remaining elements.\n",
        "Example 1:\n",
        "Input: nums = [1,3,2,2,5,2,3,7]\n",
        "Output: 5\n",
        "Explanation: The longest harmonious subsequence is [3,2,2,2,3]."
      ],
      "metadata": {
        "id": "q9GjlY04HM5Z"
      }
    },
    {
      "cell_type": "code",
      "source": [
        "def findLHS(nums):\n",
        "    count = {}\n",
        "    for num in nums:\n",
        "        count[num] = count.get(num, 0) + 1\n",
        "    \n",
        "    max_length = 0\n",
        "    for key in count:\n",
        "        if key + 1 in count:\n",
        "            max_length = max(max_length, count[key] + count[key + 1])\n",
        "    \n",
        "    return max_length\n",
        "\n",
        "nums = [1, 3, 2, 2, 5, 2, 3, 7]\n",
        "print(findLHS(nums)) "
      ],
      "metadata": {
        "colab": {
          "base_uri": "https://localhost:8080/"
        },
        "id": "t1QhpXm4HRKf",
        "outputId": "6b7d8446-1e31-4c44-f481-a616be885c68"
      },
      "execution_count": 3,
      "outputs": [
        {
          "output_type": "stream",
          "name": "stdout",
          "text": [
            "5\n"
          ]
        }
      ]
    },
    {
      "cell_type": "markdown",
      "source": [
        "You have a long flowerbed in which some of the plots are planted, and some are not.\n",
        "However, flowers cannot be planted in adjacent plots.\n",
        "Given an integer array flowerbed containing 0's and 1's, where 0 means empty and 1 means\n",
        "not empty, and an integer n, return true if n new flowers can be planted in the flowerbed\n",
        "without violating the no-adjacent-flowers rule and false otherwise.\n",
        "Example 1:\n",
        "Input: flowerbed = [1,0,0,0,1], n = 1\n",
        "Output: true"
      ],
      "metadata": {
        "id": "IOkBt7V8Ha1G"
      }
    },
    {
      "cell_type": "code",
      "source": [
        "def canPlaceFlowers(flowerbed, n):\n",
        "    count = 0\n",
        "    length = len(flowerbed)\n",
        "    \n",
        "    for i in range(length):\n",
        "        if flowerbed[i] == 0 and (i == 0 or flowerbed[i-1] == 0) and (i == length-1 or flowerbed[i+1] == 0):\n",
        "            flowerbed[i] = 1\n",
        "            count += 1\n",
        "            if count == n:\n",
        "                return True\n",
        "    \n",
        "    return count == n\n",
        "\n",
        "flowerbed = [1, 0, 0, 0, 1]\n",
        "n = 1\n",
        "print(canPlaceFlowers(flowerbed, n))  \n"
      ],
      "metadata": {
        "colab": {
          "base_uri": "https://localhost:8080/"
        },
        "id": "N4MerF6gHdLW",
        "outputId": "fd7b6d00-7162-439c-f690-95ae5d8dc0d8"
      },
      "execution_count": 4,
      "outputs": [
        {
          "output_type": "stream",
          "name": "stdout",
          "text": [
            "True\n"
          ]
        }
      ]
    },
    {
      "cell_type": "markdown",
      "source": [
        "Given an integer array nums, find three numbers whose product is maximum and return the\n",
        "maximum product.\n",
        "Example 1:\n",
        "Input: nums = [1,2,3]\n",
        "Output: 6"
      ],
      "metadata": {
        "id": "oPtoNR3KH9t3"
      }
    },
    {
      "cell_type": "code",
      "source": [
        "def maximumProduct(nums):\n",
        "    nums.sort()  \n",
        "    n = len(nums)\n",
        "    max_product = nums[n-1] * nums[n-2] * nums[n-3]  \n",
        "    alternate_product = nums[0] * nums[1] * nums[n-1]  \n",
        "    return max(max_product, alternate_product)\n",
        "\n",
        "\n",
        "nums = [1, 2, 3]\n",
        "print(maximumProduct(nums))  \n"
      ],
      "metadata": {
        "colab": {
          "base_uri": "https://localhost:8080/"
        },
        "id": "S7w60_guIAIv",
        "outputId": "1cd6d3a9-8dca-41da-de87-6e2a7a4cb747"
      },
      "execution_count": 5,
      "outputs": [
        {
          "output_type": "stream",
          "name": "stdout",
          "text": [
            "6\n"
          ]
        }
      ]
    },
    {
      "cell_type": "markdown",
      "source": [
        "Given an array of integers nums which is sorted in ascending order, and an integer target,\n",
        "write a function to search target in nums. If target exists, then return its index. Otherwise,\n",
        "return -1.\n",
        "You must write an algorithm with O(log n) runtime complexity.\n",
        "Input: nums = [-1,0,3,5,9,12], target = 9\n",
        "Output: 4\n",
        "Explanation: 9 exists in nums and its index is 4"
      ],
      "metadata": {
        "id": "G4GGp7AaIF54"
      }
    },
    {
      "cell_type": "code",
      "source": [
        "def search(nums, target):\n",
        "    left, right = 0, len(nums) - 1\n",
        "    \n",
        "    while left <= right:\n",
        "        mid = (left + right) // 2\n",
        "        \n",
        "        if nums[mid] == target:\n",
        "            return mid\n",
        "        elif nums[mid] > target:\n",
        "            right = mid - 1\n",
        "        else:\n",
        "            left = mid + 1\n",
        "    \n",
        "    return -1\n",
        "\n",
        "\n",
        "nums = [-1, 0, 3, 5, 9, 12]\n",
        "target = 9\n",
        "print(search(nums, target)) \n"
      ],
      "metadata": {
        "colab": {
          "base_uri": "https://localhost:8080/"
        },
        "id": "TUODYWlfIUqo",
        "outputId": "74dda3d9-feeb-4075-ddf1-1eea54706451"
      },
      "execution_count": 6,
      "outputs": [
        {
          "output_type": "stream",
          "name": "stdout",
          "text": [
            "4\n"
          ]
        }
      ]
    },
    {
      "cell_type": "markdown",
      "source": [
        "An array is monotonic if it is either monotone increasing or monotone decreasing.\n",
        "An array nums is monotone increasing if for all i <= j, nums[i] <= nums[j]. An array nums is\n",
        "monotone decreasing if for all i <= j, nums[i] >= nums[j].\n",
        "Given an integer array nums, return true if the given array is monotonic, or false otherwise.\n",
        "Example 1:\n",
        "Input: nums = [1,2,2,3]\n",
        "Output: true"
      ],
      "metadata": {
        "id": "T5aJGNw7IYY-"
      }
    },
    {
      "cell_type": "code",
      "source": [
        "def isMonotonic(nums):\n",
        "    isIncreasing = True\n",
        "    isDecreasing = True\n",
        "    \n",
        "    for i in range(1, len(nums)):\n",
        "        if nums[i] > nums[i-1]:\n",
        "            isDecreasing = False\n",
        "        if nums[i] < nums[i-1]:\n",
        "            isIncreasing = False\n",
        "    \n",
        "    return isIncreasing or isDecreasing\n",
        "\n",
        "\n",
        "nums = [1, 2, 2, 3]\n",
        "print(isMonotonic(nums))  \n"
      ],
      "metadata": {
        "colab": {
          "base_uri": "https://localhost:8080/"
        },
        "id": "3RCLenlTIi_2",
        "outputId": "2dc0c0e5-95fb-4448-d456-dae879c170ce"
      },
      "execution_count": 7,
      "outputs": [
        {
          "output_type": "stream",
          "name": "stdout",
          "text": [
            "True\n"
          ]
        }
      ]
    },
    {
      "cell_type": "markdown",
      "source": [
        "You are given an integer array nums and an integer k.\n",
        "In one operation, you can choose any index i where 0 <= i < nums.length and change nums[i]\n",
        "to nums[i] + x where x is an integer from the range [-k, k]. You can apply this operation at\n",
        "most once for each index i.\n",
        "The score of nums is the difference between the maximum and minimum elements in nums.\n",
        "Return the minimum score of nums after applying the mentioned operation at most once for\n",
        "each index in it.\n",
        "Example 1:\n",
        "Input: nums = [1], k = 0\n",
        "Output: 0\n",
        "Explanation: The score is max(nums) - min(nums) = 1 - 1 = 0."
      ],
      "metadata": {
        "id": "BVNxIc-1Inif"
      }
    },
    {
      "cell_type": "code",
      "source": [
        "def minimumScore(nums, k):\n",
        "    min_num = min(nums)\n",
        "    max_num = max(nums)\n",
        "    initial_score = max_num - min_num\n",
        "    \n",
        "    if initial_score <= 2 * k:\n",
        "        return initial_score\n",
        "    \n",
        "    new_min = min_num + k\n",
        "    new_max = max_num - k\n",
        "    new_score = new_max - new_min\n",
        "    \n",
        "    return min(initial_score, new_score)\n",
        "\n",
        "\n",
        "nums = [1]\n",
        "k = 0\n",
        "print(minimumScore(nums, k))  "
      ],
      "metadata": {
        "colab": {
          "base_uri": "https://localhost:8080/"
        },
        "id": "pBGQSSTjIsEA",
        "outputId": "a28bffe0-c695-422a-b924-e3058e9f588e"
      },
      "execution_count": 8,
      "outputs": [
        {
          "output_type": "stream",
          "name": "stdout",
          "text": [
            "0\n"
          ]
        }
      ]
    }
  ]
}